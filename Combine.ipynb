{
 "cells": [
  {
   "cell_type": "code",
   "execution_count": 250,
   "metadata": {
    "collapsed": true
   },
   "outputs": [],
   "source": [
    "import pandas as pd;\n",
    "import datetime as dt;\n",
    "import numpy as np;\n",
    "from sklearn.neural_network import MLPRegressor\n",
    "from sklearn.preprocessing import scale\n",
    "import pickle\n",
    "\n",
    "\n",
    "\n",
    "#hl = [100, 100, 100, 100, 100, 100, 100, 100, 100, 100, 100, 100, 100, 100, 100, 100, 100, 100, 100, 100, 100, 100, 100, 100, 100]\n",
    "#hl = [100, 100, 100, 100]\n",
    "hl = [10]\n",
    "reg = MLPRegressor(solver='lbfgs', hidden_layer_sizes = hl, max_iter = 200000)"
   ]
  },
  {
   "cell_type": "code",
   "execution_count": 265,
   "metadata": {
    "collapsed": false
   },
   "outputs": [],
   "source": [
    "\n",
    "X = scale(training.ix[:, :-1])\n",
    "y = np.array(training.ix[:, -1:]).ravel()\n",
    "\n",
    "reg.fit(X, y)\n",
    "\n",
    "outputfilename = \"model_2.sav\"\n",
    "\n",
    "pickle.dump(reg, open(outputfilename, 'wb'))\n",
    "\n",
    "result = reg.predict(X)\n",
    "\n",
    "training['predict_travel_time'] = result"
   ]
  },
  {
   "cell_type": "code",
   "execution_count": 252,
   "metadata": {
    "collapsed": false
   },
   "outputs": [],
   "source": [
    "\n",
    "X = scale(submission.ix[:, :-1])\n",
    "\n",
    "result = reg.predict(X)\n",
    "\n",
    "submission['avg_travel_time'] = result"
   ]
  },
  {
   "cell_type": "code",
   "execution_count": 266,
   "metadata": {
    "collapsed": true
   },
   "outputs": [],
   "source": [
    "\n",
    "X = scale(testing.ix[:, :-1])\n",
    "y = np.array(testing.ix[:, -1:]).ravel()\n",
    "\n",
    "result = reg.predict(X)\n",
    "\n",
    "testing['predict_travel_time'] = result"
   ]
  },
  {
   "cell_type": "code",
   "execution_count": null,
   "metadata": {
    "collapsed": true
   },
   "outputs": [],
   "source": []
  }
 ],
 "metadata": {
  "kernelspec": {
   "display_name": "Python 2",
   "language": "python",
   "name": "python2"
  },
  "language_info": {
   "codemirror_mode": {
    "name": "ipython",
    "version": 2
   },
   "file_extension": ".py",
   "mimetype": "text/x-python",
   "name": "python",
   "nbconvert_exporter": "python",
   "pygments_lexer": "ipython2",
   "version": "2.7.13"
  }
 },
 "nbformat": 4,
 "nbformat_minor": 2
}
